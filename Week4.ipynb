{
  "nbformat": 4,
  "nbformat_minor": 0,
  "metadata": {
    "colab": {
      "name": "200968232_Week4.ipynb",
      "provenance": [],
      "collapsed_sections": [],
      "authorship_tag": "ABX9TyO/C29mhRHuH9+tLCddyCdH"
    },
    "kernelspec": {
      "name": "python3",
      "display_name": "Python 3"
    },
    "language_info": {
      "name": "python"
    },
    "accelerator": "GPU",
    "gpuClass": "standard"
  },
  "cells": [
    {
      "cell_type": "code",
      "source": [
        "import os\n",
        "import zipfile\n",
        "\n",
        "from tensorflow.keras.preprocessing.image import ImageDataGenerator\n",
        "\n",
        "import matplotlib.pyplot as plt\n",
        "import matplotlib.image as mpimg\n",
        "\n",
        "import tensorflow as tf\n",
        "\n",
        "from tensorflow.keras.utils import plot_model\n",
        "\n",
        "import pandas as pd"
      ],
      "metadata": {
        "id": "jlnVGDa__SGu"
      },
      "execution_count": null,
      "outputs": []
    },
    {
      "cell_type": "code",
      "source": [
        "from keras.applications.vgg16 import VGG16\n",
        "from keras.applications.inception_v3 import InceptionV3\n",
        "from keras.applications.resnet_v2 import ResNet50V2\n",
        "from keras.applications.efficientnet import EfficientNetB0\n",
        "from keras.applications.mobilenet_v2 import MobileNetV2"
      ],
      "metadata": {
        "id": "1oTOKhV_O38C"
      },
      "execution_count": null,
      "outputs": []
    },
    {
      "cell_type": "code",
      "source": [
        "models = [VGG16, InceptionV3, ResNet50V2, EfficientNetB0, MobileNetV2]"
      ],
      "metadata": {
        "id": "5LpJ6utsQjP5"
      },
      "execution_count": null,
      "outputs": []
    },
    {
      "cell_type": "markdown",
      "source": [
        "# Cats and Dogs"
      ],
      "metadata": {
        "id": "mnqJsiwCk1iG"
      }
    },
    {
      "cell_type": "markdown",
      "source": [
        "### Downloading Data"
      ],
      "metadata": {
        "id": "KYL7Y1wikOf6"
      }
    },
    {
      "cell_type": "code",
      "source": [
        "!wget --no-check-certificate \\\n",
        "    https://storage.googleapis.com/mledu-datasets/cats_and_dogs_filtered.zip \\\n",
        "    -O cats_and_dogs_filtered.zip"
      ],
      "metadata": {
        "colab": {
          "base_uri": "https://localhost:8080/"
        },
        "id": "RmWN5vgatQla",
        "outputId": "6a172767-73c1-45f7-dab6-cf1625e21371"
      },
      "execution_count": null,
      "outputs": [
        {
          "output_type": "stream",
          "name": "stdout",
          "text": [
            "--2022-08-23 06:05:20--  https://storage.googleapis.com/mledu-datasets/cats_and_dogs_filtered.zip\n",
            "Resolving storage.googleapis.com (storage.googleapis.com)... 142.250.99.128, 74.125.20.128, 108.177.98.128, ...\n",
            "Connecting to storage.googleapis.com (storage.googleapis.com)|142.250.99.128|:443... connected.\n",
            "HTTP request sent, awaiting response... 200 OK\n",
            "Length: 68606236 (65M) [application/zip]\n",
            "Saving to: ‘cats_and_dogs_filtered.zip’\n",
            "\n",
            "cats_and_dogs_filte 100%[===================>]  65.43M   133MB/s    in 0.5s    \n",
            "\n",
            "2022-08-23 06:05:20 (133 MB/s) - ‘cats_and_dogs_filtered.zip’ saved [68606236/68606236]\n",
            "\n"
          ]
        }
      ]
    },
    {
      "cell_type": "code",
      "source": [
        "results_cats_and_dogs = {}\n",
        "results_horse2zebra = {}"
      ],
      "metadata": {
        "id": "y-EPfKezVNvO"
      },
      "execution_count": null,
      "outputs": []
    },
    {
      "cell_type": "code",
      "source": [
        "local_zip = 'cats_and_dogs_filtered.zip'\n",
        "zip_ref = zipfile.ZipFile(local_zip, 'r')\n",
        "zip_ref.extractall()\n",
        "zip_ref.close()"
      ],
      "metadata": {
        "id": "QpmcbXb33_as"
      },
      "execution_count": null,
      "outputs": []
    },
    {
      "cell_type": "markdown",
      "source": [
        "### Normalizing images and applying labels on images"
      ],
      "metadata": {
        "id": "zbksMX1okVnS"
      }
    },
    {
      "cell_type": "code",
      "source": [
        "train_datagen = ImageDataGenerator(rescale=1./255)\n",
        "val_datagen = ImageDataGenerator(rescale=1./255)"
      ],
      "metadata": {
        "id": "pmBNo_c14KcO"
      },
      "execution_count": null,
      "outputs": []
    },
    {
      "cell_type": "code",
      "source": [
        "base_dir = 'cats_and_dogs_filtered'\n",
        "train_dir = os.path.join(base_dir, 'train')\n",
        "validation_dir = os.path.join(base_dir, 'validation')\n",
        "\n",
        "train_cats_dir = os.path.join(train_dir, 'cats')\n",
        "\n",
        "train_dogs_dir = os.path.join(train_dir, 'dogs')\n",
        "\n",
        "validation_cats_dir = os.path.join(validation_dir, 'cats')\n",
        "\n",
        "validation_dogs_dir = os.path.join(validation_dir, 'dogs')"
      ],
      "metadata": {
        "id": "JZ-_Hxee4USy"
      },
      "execution_count": null,
      "outputs": []
    },
    {
      "cell_type": "code",
      "source": [
        "train_generator = train_datagen.flow_from_directory(\n",
        "        train_dir,\n",
        "        target_size=(64, 64),\n",
        "        batch_size=20,\n",
        "        class_mode='categorical')"
      ],
      "metadata": {
        "colab": {
          "base_uri": "https://localhost:8080/"
        },
        "id": "Bb6gMQfs4zIT",
        "outputId": "92782b61-c7b3-41a2-af92-e8a2ca0b3647"
      },
      "execution_count": null,
      "outputs": [
        {
          "output_type": "stream",
          "name": "stdout",
          "text": [
            "Found 2000 images belonging to 2 classes.\n"
          ]
        }
      ]
    },
    {
      "cell_type": "code",
      "source": [
        "validation_generator = val_datagen.flow_from_directory(\n",
        "        validation_dir,\n",
        "        target_size=(64, 64),\n",
        "        batch_size=20,\n",
        "        class_mode='categorical')"
      ],
      "metadata": {
        "colab": {
          "base_uri": "https://localhost:8080/"
        },
        "id": "49KWbNFp443r",
        "outputId": "d1ac6081-89f8-49c6-c03a-829ff0ce9837"
      },
      "execution_count": null,
      "outputs": [
        {
          "output_type": "stream",
          "name": "stdout",
          "text": [
            "Found 1000 images belonging to 2 classes.\n"
          ]
        }
      ]
    },
    {
      "cell_type": "code",
      "source": [
        "train_cat_fnames = os.listdir(train_cats_dir)\n",
        "print(train_cat_fnames[:10])\n",
        "\n",
        "train_dog_fnames = os.listdir(train_dogs_dir)\n",
        "train_dog_fnames.sort()\n",
        "print(train_dog_fnames[:10])"
      ],
      "metadata": {
        "colab": {
          "base_uri": "https://localhost:8080/"
        },
        "id": "HgehK54D46YT",
        "outputId": "aa39ead7-345d-4b06-e4b8-ee8b654d066b"
      },
      "execution_count": null,
      "outputs": [
        {
          "output_type": "stream",
          "name": "stdout",
          "text": [
            "['cat.558.jpg', 'cat.350.jpg', 'cat.127.jpg', 'cat.247.jpg', 'cat.30.jpg', 'cat.648.jpg', 'cat.753.jpg', 'cat.819.jpg', 'cat.728.jpg', 'cat.81.jpg']\n",
            "['dog.0.jpg', 'dog.1.jpg', 'dog.10.jpg', 'dog.100.jpg', 'dog.101.jpg', 'dog.102.jpg', 'dog.103.jpg', 'dog.104.jpg', 'dog.105.jpg', 'dog.106.jpg']\n"
          ]
        }
      ]
    },
    {
      "cell_type": "code",
      "source": [
        "plt.imshow(mpimg.imread(os.path.join(train_cats_dir, train_cat_fnames[0])))"
      ],
      "metadata": {
        "colab": {
          "base_uri": "https://localhost:8080/",
          "height": 251
        },
        "id": "qXS5uUaP495b",
        "outputId": "ecbcc74b-62d1-4f2b-b405-6d0491896d98"
      },
      "execution_count": null,
      "outputs": [
        {
          "output_type": "execute_result",
          "data": {
            "text/plain": [
              "<matplotlib.image.AxesImage at 0x7f954d7901d0>"
            ]
          },
          "metadata": {},
          "execution_count": 9
        },
        {
          "output_type": "display_data",
          "data": {
            "text/plain": [
              "<Figure size 432x288 with 1 Axes>"
            ],
            "image/png": "[encoded data removed]"
          },
          "metadata": {
            "needs_background": "light"
          }
        }
      ]
    },
    {
      "cell_type": "markdown",
      "source": [
        "## AlexNet Architecture"
      ],
      "metadata": {
        "id": "lZYEcOZYl1a1"
      }
    },
    {
      "cell_type": "code",
      "source": [
        "model=tf.keras.models.Sequential([\n",
        "    tf.keras.layers.Conv2D(filters=128, kernel_size=(11,11), strides=(4,4), activation='relu', input_shape=(64,64,3)),\n",
        "    tf.keras.layers.BatchNormalization(),\n",
        "    tf.keras.layers.MaxPool2D(pool_size=(2,2)),\n",
        "    tf.keras.layers.Conv2D(filters=256, kernel_size=(5,5), strides=(1,1), activation='relu', padding=\"same\"),\n",
        "    tf.keras.layers.BatchNormalization(),\n",
        "    tf.keras.layers.MaxPool2D(pool_size=(3,3)),\n",
        "    tf.keras.layers.Conv2D(filters=256, kernel_size=(3,3), strides=(1,1), activation='relu', padding=\"same\"),\n",
        "    tf.keras.layers.BatchNormalization(),\n",
        "    tf.keras.layers.Conv2D(filters=256, kernel_size=(1,1), strides=(1,1), activation='relu', padding=\"same\"),\n",
        "    tf.keras.layers.BatchNormalization(),\n",
        "    tf.keras.layers.Conv2D(filters=256, kernel_size=(1,1), strides=(1,1), activation='relu', padding=\"same\"),\n",
        "    tf.keras.layers.BatchNormalization(),\n",
        "    tf.keras.layers.MaxPool2D(pool_size=(2,2)),\n",
        "    tf.keras.layers.Flatten(),\n",
        "    tf.keras.layers.Dense(1024,activation='relu'),\n",
        "    tf.keras.layers.Dropout(0.5),\n",
        "    tf.keras.layers.Dense(1024,activation='relu'),\n",
        "    tf.keras.layers.Dropout(0.5),\n",
        "    tf.keras.layers.Dense(2,activation='softmax')    \n",
        "])\n",
        "model.summary()\n",
        "model.compile(loss = 'categorical_crossentropy', optimizer = tf.keras.optimizers.Adam(learning_rate = 0.01), metrics = ['acc'])"
      ],
      "metadata": {
        "colab": {
          "base_uri": "https://localhost:8080/"
        },
        "id": "tZ3ukWDsA-Ds",
        "outputId": "1c0dbbe5-ab65-4286-fde1-fd920ce98f12"
      },
      "execution_count": null,
      "outputs": [
        {
          "output_type": "stream",
          "name": "stdout",
          "text": [
            "Model: \"sequential_2\"\n",
            "_________________________________________________________________\n",
            " Layer (type)                Output Shape              Param #   \n",
            "=================================================================\n",
            " conv2d_10 (Conv2D)          (None, 14, 14, 128)       46592     \n",
            "                                                                 \n",
            " batch_normalization_10 (Bat  (None, 14, 14, 128)      512       \n",
            " chNormalization)                                                \n",
            "                                                                 \n",
            " max_pooling2d_6 (MaxPooling  (None, 7, 7, 128)        0         \n",
            " 2D)                                                             \n",
            "                                                                 \n",
            " conv2d_11 (Conv2D)          (None, 7, 7, 256)         819456    \n",
            "                                                                 \n",
            " batch_normalization_11 (Bat  (None, 7, 7, 256)        1024      \n",
            " chNormalization)                                                \n",
            "                                                                 \n",
            " max_pooling2d_7 (MaxPooling  (None, 2, 2, 256)        0         \n",
            " 2D)                                                             \n",
            "                                                                 \n",
            " conv2d_12 (Conv2D)          (None, 2, 2, 256)         590080    \n",
            "                                                                 \n",
            " batch_normalization_12 (Bat  (None, 2, 2, 256)        1024      \n",
            " chNormalization)                                                \n",
            "                                                                 \n",
            " conv2d_13 (Conv2D)          (None, 2, 2, 256)         65792     \n",
            "                                                                 \n",
            " batch_normalization_13 (Bat  (None, 2, 2, 256)        1024      \n",
            " chNormalization)                                                \n",
            "                                                                 \n",
            " conv2d_14 (Conv2D)          (None, 2, 2, 256)         65792     \n",
            "                                                                 \n",
            " batch_normalization_14 (Bat  (None, 2, 2, 256)        1024      \n",
            " chNormalization)                                                \n",
            "                                                                 \n",
            " max_pooling2d_8 (MaxPooling  (None, 1, 1, 256)        0         \n",
            " 2D)                                                             \n",
            "                                                                 \n",
            " flatten_2 (Flatten)         (None, 256)               0         \n",
            "                                                                 \n",
            " dense_6 (Dense)             (None, 1024)              263168    \n",
            "                                                                 \n",
            " dropout_4 (Dropout)         (None, 1024)              0         \n",
            "                                                                 \n",
            " dense_7 (Dense)             (None, 1024)              1049600   \n",
            "                                                                 \n",
            " dropout_5 (Dropout)         (None, 1024)              0         \n",
            "                                                                 \n",
            " dense_8 (Dense)             (None, 2)                 2050      \n",
            "                                                                 \n",
            "=================================================================\n",
            "Total params: 2,907,138\n",
            "Trainable params: 2,904,834\n",
            "Non-trainable params: 2,304\n",
            "_________________________________________________________________\n"
          ]
        }
      ]
    },
    {
      "cell_type": "code",
      "source": [
        "history = model.fit(train_generator, epochs=5, validation_data=validation_generator)"
      ],
      "metadata": {
        "colab": {
          "base_uri": "https://localhost:8080/"
        },
        "id": "CK4vA2hUGWIm",
        "outputId": "970420e7-f897-4fcd-86a2-e2ab9dae695d"
      },
      "execution_count": null,
      "outputs": [
        {
          "output_type": "stream",
          "name": "stdout",
          "text": [
            "Epoch 1/5\n",
            "100/100 [==============================] - 9s 79ms/step - loss: 2.0022 - acc: 0.5355 - val_loss: 1.7220 - val_acc: 0.5010\n",
            "Epoch 2/5\n",
            "100/100 [==============================] - 9s 92ms/step - loss: 0.7345 - acc: 0.5020 - val_loss: 0.6884 - val_acc: 0.5350\n",
            "Epoch 3/5\n",
            "100/100 [==============================] - 8s 78ms/step - loss: 0.6970 - acc: 0.5005 - val_loss: 0.6933 - val_acc: 0.5000\n",
            "Epoch 4/5\n",
            "100/100 [==============================] - 8s 77ms/step - loss: 0.6945 - acc: 0.4670 - val_loss: 0.6934 - val_acc: 0.5000\n",
            "Epoch 5/5\n",
            "100/100 [==============================] - 8s 79ms/step - loss: 0.6940 - acc: 0.4925 - val_loss: 0.6939 - val_acc: 0.5000\n"
          ]
        }
      ]
    },
    {
      "cell_type": "code",
      "source": [
        "results_cats_and_dogs[\"AlexNet\"] = {}\n",
        "results_cats_and_dogs[\"AlexNet\"][\"Loss\"] = history.history[\"loss\"][-1]\n",
        "results_cats_and_dogs[\"AlexNet\"][\"Accuracy\"] = history.history[\"acc\"][-1]\n",
        "results_cats_and_dogs[\"AlexNet\"][\"Validation Loss\"] = history.history[\"val_loss\"][-1]\n",
        "results_cats_and_dogs[\"AlexNet\"][\"Validation Accuracy\"] = history.history[\"val_acc\"][-1]\n",
        "results_cats_and_dogs"
      ],
      "metadata": {
        "colab": {
          "base_uri": "https://localhost:8080/"
        },
        "id": "-saNc0SNVXps",
        "outputId": "793342e9-8481-4a1b-b32f-fa51e02f5410"
      },
      "execution_count": null,
      "outputs": [
        {
          "output_type": "execute_result",
          "data": {
            "text/plain": [
              "{'AlexNet': {'Loss': 0.6939583420753479,\n",
              "  'Accuracy': 0.4925000071525574,\n",
              "  'Validation Loss': 0.6938546299934387,\n",
              "  'Validation Accuracy': 0.5}}"
            ]
          },
          "metadata": {},
          "execution_count": 29
        }
      ]
    },
    {
      "cell_type": "markdown",
      "source": [
        "## Newer CNN Architectures\n",
        "\n",
        "\n",
        "1.   VGG16\n",
        "2.   GoogleNet(InceptionNet)\n",
        "3.   ResNet50\n",
        "4.   EfficientNetB0\n",
        "5.   MobileNetV2\n"
      ],
      "metadata": {
        "id": "IQ0zIpb8mAQs"
      }
    },
    {
      "cell_type": "code",
      "source": [
        "for Net in models:\n",
        "    if Net == InceptionV3:\n",
        "\n",
        "      train_generator = train_datagen.flow_from_directory(\n",
        "      train_dir,\n",
        "      target_size=(299, 299),\n",
        "      batch_size=20,\n",
        "      class_mode='categorical')\n",
        "\n",
        "      validation_generator = val_datagen.flow_from_directory(\n",
        "      validation_dir,\n",
        "      target_size=(299, 299),\n",
        "      batch_size=20,\n",
        "      class_mode='categorical')\n",
        "\n",
        "      base_model = Net(input_shape=(299,299,3), weights='imagenet', include_top=False)\n",
        "      base_model.trainable = False\n",
        "\n",
        "    else:\n",
        "      train_generator = train_datagen.flow_from_directory(\n",
        "      train_dir,\n",
        "      target_size=(224, 224),\n",
        "      batch_size=20,\n",
        "      class_mode='categorical')\n",
        "\n",
        "      validation_generator = val_datagen.flow_from_directory(\n",
        "      validation_dir,\n",
        "      target_size=(224, 224),\n",
        "      batch_size=20,\n",
        "      class_mode='categorical')\n",
        "\n",
        "      base_model = Net(input_shape=(224,224,3), weights='imagenet', include_top=False)\n",
        "      base_model.trainable = False\n",
        "      \n",
        "    model = tf.keras.Sequential([\n",
        "      base_model,\n",
        "      tf.keras.layers.Flatten(),\n",
        "      tf.keras.layers.Dense(2, activation='sigmoid')\n",
        "    ])\n",
        "    model.summary()\n",
        "\n",
        "    model.compile(loss = 'categorical_crossentropy', optimizer = tf.keras.optimizers.Adam(learning_rate = 0.0001), metrics = ['acc'])\n",
        "    history = model.fit(train_generator, epochs=2, validation_data=validation_generator)\n",
        "\n",
        "    results_cats_and_dogs[Net] = {}\n",
        "    results_cats_and_dogs[Net][\"Loss\"] = history.history[\"loss\"][-1]\n",
        "    results_cats_and_dogs[Net][\"Accuracy\"] = history.history[\"acc\"][-1]\n",
        "    results_cats_and_dogs[Net][\"Validation Loss\"] = history.history[\"val_loss\"][-1]\n",
        "    results_cats_and_dogs[Net][\"Validation Accuracy\"] = history.history[\"val_acc\"][-1]"
      ],
      "metadata": {
        "id": "D3hsGsNoPzsf",
        "colab": {
          "base_uri": "https://localhost:8080/"
        },
        "outputId": "a14666e4-65ce-42a3-adc0-37072cdb4066"
      },
      "execution_count": null,
      "outputs": [
        {
          "output_type": "stream",
          "name": "stdout",
          "text": [
            "Found 2000 images belonging to 2 classes.\n",
            "Found 1000 images belonging to 2 classes.\n",
            "Model: \"sequential_9\"\n",
            "_________________________________________________________________\n",
            " Layer (type)                Output Shape              Param #   \n",
            "=================================================================\n",
            " vgg16 (Functional)          (None, 7, 7, 512)         14714688  \n",
            "                                                                 \n",
            " flatten_9 (Flatten)         (None, 25088)             0         \n",
            "                                                                 \n",
            " dense_17 (Dense)            (None, 2)                 50178     \n",
            "                                                                 \n",
            "=================================================================\n",
            "Total params: 14,764,866\n",
            "Trainable params: 50,178\n",
            "Non-trainable params: 14,714,688\n",
            "_________________________________________________________________\n",
            "Epoch 1/2\n",
            "100/100 [==============================] - 21s 208ms/step - loss: 0.4520 - acc: 0.7985 - val_loss: 0.3355 - val_acc: 0.8770\n",
            "Epoch 2/2\n",
            "100/100 [==============================] - 21s 206ms/step - loss: 0.2760 - acc: 0.9020 - val_loss: 0.2835 - val_acc: 0.8910\n",
            "Found 2000 images belonging to 2 classes.\n",
            "Found 1000 images belonging to 2 classes.\n",
            "Model: \"sequential_10\"\n",
            "_________________________________________________________________\n",
            " Layer (type)                Output Shape              Param #   \n",
            "=================================================================\n",
            " inception_v3 (Functional)   (None, 8, 8, 2048)        21802784  \n",
            "                                                                 \n",
            " flatten_10 (Flatten)        (None, 131072)            0         \n",
            "                                                                 \n",
            " dense_18 (Dense)            (None, 2)                 262146    \n",
            "                                                                 \n",
            "=================================================================\n",
            "Total params: 22,064,930\n",
            "Trainable params: 262,146\n",
            "Non-trainable params: 21,802,784\n",
            "_________________________________________________________________\n",
            "Epoch 1/2\n",
            "100/100 [==============================] - 19s 159ms/step - loss: 0.0749 - acc: 0.9750 - val_loss: 0.0310 - val_acc: 0.9890\n",
            "Epoch 2/2\n",
            "100/100 [==============================] - 15s 148ms/step - loss: 0.0044 - acc: 0.9985 - val_loss: 0.0204 - val_acc: 0.9930\n",
            "Found 2000 images belonging to 2 classes.\n",
            "Found 1000 images belonging to 2 classes.\n",
            "Model: \"sequential_11\"\n",
            "_________________________________________________________________\n",
            " Layer (type)                Output Shape              Param #   \n",
            "=================================================================\n",
            " resnet50v2 (Functional)     (None, 7, 7, 2048)        23564800  \n",
            "                                                                 \n",
            " flatten_11 (Flatten)        (None, 100352)            0         \n",
            "                                                                 \n",
            " dense_19 (Dense)            (None, 2)                 200706    \n",
            "                                                                 \n",
            "=================================================================\n",
            "Total params: 23,765,506\n",
            "Trainable params: 200,706\n",
            "Non-trainable params: 23,564,800\n",
            "_________________________________________________________________\n",
            "Epoch 1/2\n",
            "100/100 [==============================] - 16s 128ms/step - loss: 0.1620 - acc: 0.9570 - val_loss: 0.1702 - val_acc: 0.9650\n",
            "Epoch 2/2\n",
            "100/100 [==============================] - 12s 119ms/step - loss: 0.0179 - acc: 0.9940 - val_loss: 0.1089 - val_acc: 0.9700\n",
            "Found 2000 images belonging to 2 classes.\n",
            "Found 1000 images belonging to 2 classes.\n",
            "Downloading data from https://storage.googleapis.com/keras-applications/efficientnetb0_notop.h5\n",
            "16711680/16705208 [==============================] - 0s 0us/step\n",
            "16719872/16705208 [==============================] - 0s 0us/step\n",
            "Model: \"sequential_12\"\n",
            "_________________________________________________________________\n",
            " Layer (type)                Output Shape              Param #   \n",
            "=================================================================\n",
            " efficientnetb0 (Functional)  (None, 7, 7, 1280)       4049571   \n",
            "                                                                 \n",
            " flatten_12 (Flatten)        (None, 62720)             0         \n",
            "                                                                 \n",
            " dense_20 (Dense)            (None, 2)                 125442    \n",
            "                                                                 \n",
            "=================================================================\n",
            "Total params: 4,175,013\n",
            "Trainable params: 125,442\n",
            "Non-trainable params: 4,049,571\n",
            "_________________________________________________________________\n",
            "Epoch 1/2\n",
            "100/100 [==============================] - 18s 123ms/step - loss: 0.7524 - acc: 0.4985 - val_loss: 0.7046 - val_acc: 0.5000\n",
            "Epoch 2/2\n",
            "100/100 [==============================] - 11s 111ms/step - loss: 0.7282 - acc: 0.5005 - val_loss: 0.6938 - val_acc: 0.5000\n",
            "Found 2000 images belonging to 2 classes.\n",
            "Found 1000 images belonging to 2 classes.\n",
            "Downloading data from https://storage.googleapis.com/tensorflow/keras-applications/mobilenet_v2/mobilenet_v2_weights_tf_dim_ordering_tf_kernels_1.0_224_no_top.h5\n",
            "9412608/9406464 [==============================] - 0s 0us/step\n",
            "9420800/9406464 [==============================] - 0s 0us/step\n",
            "Model: \"sequential_13\"\n",
            "_________________________________________________________________\n",
            " Layer (type)                Output Shape              Param #   \n",
            "=================================================================\n",
            " mobilenetv2_1.00_224 (Funct  (None, 7, 7, 1280)       2257984   \n",
            " ional)                                                          \n",
            "                                                                 \n",
            " flatten_13 (Flatten)        (None, 62720)             0         \n",
            "                                                                 \n",
            " dense_21 (Dense)            (None, 2)                 125442    \n",
            "                                                                 \n",
            "=================================================================\n",
            "Total params: 2,383,426\n",
            "Trainable params: 125,442\n",
            "Non-trainable params: 2,257,984\n",
            "_________________________________________________________________\n",
            "Epoch 1/2\n",
            "100/100 [==============================] - 14s 119ms/step - loss: 0.1620 - acc: 0.9475 - val_loss: 0.0958 - val_acc: 0.9760\n",
            "Epoch 2/2\n",
            "100/100 [==============================] - 11s 106ms/step - loss: 0.0095 - acc: 0.9980 - val_loss: 0.0920 - val_acc: 0.9760\n"
          ]
        }
      ]
    },
    {
      "cell_type": "code",
      "source": [
        "results_cats_and_dogs_df = pd.DataFrame.from_dict(results_cats_and_dogs, orient=\"index\")\n",
        "results_cats_and_dogs_df"
      ],
      "metadata": {
        "colab": {
          "base_uri": "https://localhost:8080/",
          "height": 238
        },
        "id": "kNi6BKHKf4xG",
        "outputId": "4481a8b4-4191-4d81-af84-72c202689292"
      },
      "execution_count": null,
      "outputs": [
        {
          "output_type": "execute_result",
          "data": {
            "text/plain": [
              "                                                 Loss  Accuracy  \\\n",
              "AlexNet                                      0.693958    0.4925   \n",
              "<function VGG16 at 0x7f954fac0710>           0.275961    0.9020   \n",
              "<function InceptionV3 at 0x7f954fa94e60>     0.004381    0.9985   \n",
              "<function ResNet50V2 at 0x7f954fabcdd0>      0.017940    0.9940   \n",
              "<function EfficientNetB0 at 0x7f954fb05320>  0.728201    0.5005   \n",
              "<function MobileNetV2 at 0x7f954fa9bd40>     0.009470    0.9980   \n",
              "\n",
              "                                             Validation Loss  \\\n",
              "AlexNet                                             0.693855   \n",
              "<function VGG16 at 0x7f954fac0710>                  0.283474   \n",
              "<function InceptionV3 at 0x7f954fa94e60>            0.020426   \n",
              "<function ResNet50V2 at 0x7f954fabcdd0>             0.108862   \n",
              "<function EfficientNetB0 at 0x7f954fb05320>         0.693775   \n",
              "<function MobileNetV2 at 0x7f954fa9bd40>            0.092012   \n",
              "\n",
              "                                             Validation Accuracy  \n",
              "AlexNet                                                    0.500  \n",
              "<function VGG16 at 0x7f954fac0710>                         0.891  \n",
              "<function InceptionV3 at 0x7f954fa94e60>                   0.993  \n",
              "<function ResNet50V2 at 0x7f954fabcdd0>                    0.970  \n",
              "<function EfficientNetB0 at 0x7f954fb05320>                0.500  \n",
              "<function MobileNetV2 at 0x7f954fa9bd40>                   0.976  "
            ],
            "text/html": [
              "\n",
              "  <div id=\"df-15db023a-cc1c-4b81-9354-456e4ada490c\">\n",
              "    <div class=\"colab-df-container\">\n",
              "      <div>\n",
              "<style scoped>\n",
              "    .dataframe tbody tr th:only-of-type {\n",
              "        vertical-align: middle;\n",
              "    }\n",
              "\n",
              "    .dataframe tbody tr th {\n",
              "        vertical-align: top;\n",
              "    }\n",
              "\n",
              "    .dataframe thead th {\n",
              "        text-align: right;\n",
              "    }\n",
              "</style>\n",
              "<table border=\"1\" class=\"dataframe\">\n",
              "  <thead>\n",
              "    <tr style=\"text-align: right;\">\n",
              "      <th></th>\n",
              "      <th>Loss</th>\n",
              "      <th>Accuracy</th>\n",
              "      <th>Validation Loss</th>\n",
              "      <th>Validation Accuracy</th>\n",
              "    </tr>\n",
              "  </thead>\n",
              "  <tbody>\n",
              "    <tr>\n",
              "      <th>AlexNet</th>\n",
              "      <td>0.693958</td>\n",
              "      <td>0.4925</td>\n",
              "      <td>0.693855</td>\n",
              "      <td>0.500</td>\n",
              "    </tr>\n",
              "    <tr>\n",
              "      <th>&lt;function VGG16 at 0x7f954fac0710&gt;</th>\n",
              "      <td>0.275961</td>\n",
              "      <td>0.9020</td>\n",
              "      <td>0.283474</td>\n",
              "      <td>0.891</td>\n",
              "    </tr>\n",
              "    <tr>\n",
              "      <th>&lt;function InceptionV3 at 0x7f954fa94e60&gt;</th>\n",
              "      <td>0.004381</td>\n",
              "      <td>0.9985</td>\n",
              "      <td>0.020426</td>\n",
              "      <td>0.993</td>\n",
              "    </tr>\n",
              "    <tr>\n",
              "      <th>&lt;function ResNet50V2 at 0x7f954fabcdd0&gt;</th>\n",
              "      <td>0.017940</td>\n",
              "      <td>0.9940</td>\n",
              "      <td>0.108862</td>\n",
              "      <td>0.970</td>\n",
              "    </tr>\n",
              "    <tr>\n",
              "      <th>&lt;function EfficientNetB0 at 0x7f954fb05320&gt;</th>\n",
              "      <td>0.728201</td>\n",
              "      <td>0.5005</td>\n",
              "      <td>0.693775</td>\n",
              "      <td>0.500</td>\n",
              "    </tr>\n",
              "    <tr>\n",
              "      <th>&lt;function MobileNetV2 at 0x7f954fa9bd40&gt;</th>\n",
              "      <td>0.009470</td>\n",
              "      <td>0.9980</td>\n",
              "      <td>0.092012</td>\n",
              "      <td>0.976</td>\n",
              "    </tr>\n",
              "  </tbody>\n",
              "</table>\n",
              "</div>\n",
              "      <button class=\"colab-df-convert\" onclick=\"convertToInteractive('df-15db023a-cc1c-4b81-9354-456e4ada490c')\"\n",
              "              title=\"Convert this dataframe to an interactive table.\"\n",
              "              style=\"display:none;\">\n",
              "        \n",
              "  <svg xmlns=\"http://www.w3.org/2000/svg\" height=\"24px\"viewBox=\"0 0 24 24\"\n",
              "       width=\"24px\">\n",
              "    <path d=\"M0 0h24v24H0V0z\" fill=\"none\"/>\n",
              "    <path d=\"M18.56 5.44l.94 2.06.94-2.06 2.06-.94-2.06-.94-.94-2.06-.94 2.06-2.06.94zm-11 1L8.5 8.5l.94-2.06 2.06-.94-2.06-.94L8.5 2.5l-.94 2.06-2.06.94zm10 10l.94 2.06.94-2.06 2.06-.94-2.06-.94-.94-2.06-.94 2.06-2.06.94z\"/><path d=\"M17.41 7.96l-1.37-1.37c-.4-.4-.92-.59-1.43-.59-.52 0-1.04.2-1.43.59L10.3 9.45l-7.72 7.72c-.78.78-.78 2.05 0 2.83L4 21.41c.39.39.9.59 1.41.59.51 0 1.02-.2 1.41-.59l7.78-7.78 2.81-2.81c.8-.78.8-2.07 0-2.86zM5.41 20L4 18.59l7.72-7.72 1.47 1.35L5.41 20z\"/>\n",
              "  </svg>\n",
              "      </button>\n",
              "      \n",
              "  <style>\n",
              "    .colab-df-container {\n",
              "      display:flex;\n",
              "      flex-wrap:wrap;\n",
              "      gap: 12px;\n",
              "    }\n",
              "\n",
              "    .colab-df-convert {\n",
              "      background-color: #E8F0FE;\n",
              "      border: none;\n",
              "      border-radius: 50%;\n",
              "      cursor: pointer;\n",
              "      display: none;\n",
              "      fill: #1967D2;\n",
              "      height: 32px;\n",
              "      padding: 0 0 0 0;\n",
              "      width: 32px;\n",
              "    }\n",
              "\n",
              "    .colab-df-convert:hover {\n",
              "      background-color: #E2EBFA;\n",
              "      box-shadow: 0px 1px 2px rgba(60, 64, 67, 0.3), 0px 1px 3px 1px rgba(60, 64, 67, 0.15);\n",
              "      fill: #174EA6;\n",
              "    }\n",
              "\n",
              "    [theme=dark] .colab-df-convert {\n",
              "      background-color: #3B4455;\n",
              "      fill: #D2E3FC;\n",
              "    }\n",
              "\n",
              "    [theme=dark] .colab-df-convert:hover {\n",
              "      background-color: #434B5C;\n",
              "      box-shadow: 0px 1px 3px 1px rgba(0, 0, 0, 0.15);\n",
              "      filter: drop-shadow(0px 1px 2px rgba(0, 0, 0, 0.3));\n",
              "      fill: #FFFFFF;\n",
              "    }\n",
              "  </style>\n",
              "\n",
              "      <script>\n",
              "        const buttonEl =\n",
              "          document.querySelector('#df-15db023a-cc1c-4b81-9354-456e4ada490c button.colab-df-convert');\n",
              "        buttonEl.style.display =\n",
              "          google.colab.kernel.accessAllowed ? 'block' : 'none';\n",
              "\n",
              "        async function convertToInteractive(key) {\n",
              "          const element = document.querySelector('#df-15db023a-cc1c-4b81-9354-456e4ada490c');\n",
              "          const dataTable =\n",
              "            await google.colab.kernel.invokeFunction('convertToInteractive',\n",
              "                                                     [key], {});\n",
              "          if (!dataTable) return;\n",
              "\n",
              "          const docLinkHtml = 'Like what you see? Visit the ' +\n",
              "            '<a target=\"_blank\" href=https://colab.research.google.com/notebooks/data_table.ipynb>data table notebook</a>'\n",
              "            + ' to learn more about interactive tables.';\n",
              "          element.innerHTML = '';\n",
              "          dataTable['output_type'] = 'display_data';\n",
              "          await google.colab.output.renderOutput(dataTable, element);\n",
              "          const docLink = document.createElement('div');\n",
              "          docLink.innerHTML = docLinkHtml;\n",
              "          element.appendChild(docLink);\n",
              "        }\n",
              "      </script>\n",
              "    </div>\n",
              "  </div>\n",
              "  "
            ]
          },
          "metadata": {},
          "execution_count": 51
        }
      ]
    },
    {
      "cell_type": "markdown",
      "source": [
        "# Horse 2 Zebra"
      ],
      "metadata": {
        "id": "x1qiKrdulV9_"
      }
    },
    {
      "cell_type": "markdown",
      "source": [
        "### Downloading Data"
      ],
      "metadata": {
        "id": "gc03OijKkrq9"
      }
    },
    {
      "cell_type": "code",
      "source": [
        "!wget --no-check-certificate http://efrosgans.eecs.berkeley.edu/cyclegan/datasets/horse2zebra.zip"
      ],
      "metadata": {
        "colab": {
          "base_uri": "https://localhost:8080/"
        },
        "id": "62DuQOeJ5cUj",
        "outputId": "40283f3c-8906-4409-b732-47a051db9f9f"
      },
      "execution_count": null,
      "outputs": [
        {
          "output_type": "stream",
          "name": "stdout",
          "text": [
            "--2022-08-23 06:05:24--  http://efrosgans.eecs.berkeley.edu/cyclegan/datasets/horse2zebra.zip\n",
            "Resolving efrosgans.eecs.berkeley.edu (efrosgans.eecs.berkeley.edu)... 128.32.244.190\n",
            "Connecting to efrosgans.eecs.berkeley.edu (efrosgans.eecs.berkeley.edu)|128.32.244.190|:80... connected.\n",
            "HTTP request sent, awaiting response... 200 OK\n",
            "Length: 116867962 (111M) [application/zip]\n",
            "Saving to: ‘horse2zebra.zip’\n",
            "\n",
            "horse2zebra.zip     100%[===================>] 111.45M  3.57MB/s    in 39s     \n",
            "\n",
            "2022-08-23 06:06:03 (2.86 MB/s) - ‘horse2zebra.zip’ saved [116867962/116867962]\n",
            "\n"
          ]
        }
      ]
    },
    {
      "cell_type": "code",
      "source": [
        "local_zip = 'horse2zebra.zip'\n",
        "zip_ref = zipfile.ZipFile(local_zip, 'r')\n",
        "zip_ref.extractall()\n",
        "zip_ref.close()"
      ],
      "metadata": {
        "id": "luc7DihJ6eE7"
      },
      "execution_count": null,
      "outputs": []
    },
    {
      "cell_type": "code",
      "source": [
        "!mkdir -v horse2zebra/train horse2zebra/validation\n",
        "!mv -v horse2zebra/testA horse2zebra/testB horse2zebra/validation\n",
        "!mv -v horse2zebra/trainA horse2zebra/trainB horse2zebra/train"
      ],
      "metadata": {
        "colab": {
          "base_uri": "https://localhost:8080/"
        },
        "id": "V8sHAYf89jTH",
        "outputId": "d7b82611-b15a-453b-9f13-19cb177c9687"
      },
      "execution_count": null,
      "outputs": [
        {
          "output_type": "stream",
          "name": "stdout",
          "text": [
            "mkdir: created directory 'horse2zebra/train'\n",
            "mkdir: created directory 'horse2zebra/validation'\n",
            "renamed 'horse2zebra/testA' -> 'horse2zebra/validation/testA'\n",
            "renamed 'horse2zebra/testB' -> 'horse2zebra/validation/testB'\n",
            "renamed 'horse2zebra/trainA' -> 'horse2zebra/train/trainA'\n",
            "renamed 'horse2zebra/trainB' -> 'horse2zebra/train/trainB'\n"
          ]
        }
      ]
    },
    {
      "cell_type": "markdown",
      "source": [
        "### Normalizing images and applying labels on images"
      ],
      "metadata": {
        "id": "O-ZqEeQHkrq-"
      }
    },
    {
      "cell_type": "code",
      "source": [
        "base_dir = 'horse2zebra'\n",
        "train_dir = os.path.join(base_dir, 'train')\n",
        "validation_dir = os.path.join(base_dir, 'validation')\n",
        "\n",
        "train_horses_dir = os.path.join(train_dir, 'trainA')\n",
        "\n",
        "train_zebras_dir = os.path.join(train_dir, 'trainB')\n",
        "\n",
        "validation_horses_dir = os.path.join(validation_dir, 'testA')\n",
        "\n",
        "validation_zebras_dir = os.path.join(validation_dir, 'testB')"
      ],
      "metadata": {
        "id": "xvrwjCMs8IN1"
      },
      "execution_count": null,
      "outputs": []
    },
    {
      "cell_type": "code",
      "source": [
        "train_datagen = ImageDataGenerator(rescale=1./255)\n",
        "val_datagen = ImageDataGenerator(rescale=1./255)"
      ],
      "metadata": {
        "id": "CpOoAFkSnNmi"
      },
      "execution_count": null,
      "outputs": []
    },
    {
      "cell_type": "code",
      "source": [
        "train_generator = train_datagen.flow_from_directory(\n",
        "        train_dir,\n",
        "        target_size=(64, 64),\n",
        "        batch_size=20,\n",
        "        class_mode='categorical')"
      ],
      "metadata": {
        "colab": {
          "base_uri": "https://localhost:8080/"
        },
        "id": "7NJCzFa-88b9",
        "outputId": "6c270b8b-4b50-4728-f3cd-0a09647d7d7b"
      },
      "execution_count": null,
      "outputs": [
        {
          "output_type": "stream",
          "name": "stdout",
          "text": [
            "Found 2401 images belonging to 2 classes.\n"
          ]
        }
      ]
    },
    {
      "cell_type": "code",
      "source": [
        "validation_generator = val_datagen.flow_from_directory(\n",
        "        validation_dir,\n",
        "        target_size=(64, 64),\n",
        "        batch_size=20,\n",
        "        class_mode='categorical')"
      ],
      "metadata": {
        "colab": {
          "base_uri": "https://localhost:8080/"
        },
        "id": "wS-Bdrgk-Xlp",
        "outputId": "ebf268e9-e4aa-42b7-ebff-c1ac8acd8585"
      },
      "execution_count": null,
      "outputs": [
        {
          "output_type": "stream",
          "name": "stdout",
          "text": [
            "Found 260 images belonging to 2 classes.\n"
          ]
        }
      ]
    },
    {
      "cell_type": "code",
      "source": [
        "train_horses_fnames = os.listdir(train_horses_dir)\n",
        "print(train_horses_fnames[:10])\n",
        "\n",
        "train_zebras_fnames = os.listdir(train_zebras_dir)\n",
        "train_zebras_fnames.sort()\n",
        "print(train_zebras_fnames[:10])"
      ],
      "metadata": {
        "colab": {
          "base_uri": "https://localhost:8080/"
        },
        "id": "OLD9YAwR-c5E",
        "outputId": "1c6655f9-9259-4701-a351-c729bda44446"
      },
      "execution_count": null,
      "outputs": [
        {
          "output_type": "stream",
          "name": "stdout",
          "text": [
            "['n02381460_3664.jpg', 'n02381460_2341.jpg', 'n02381460_2049.jpg', 'n02381460_4117.jpg', 'n02381460_5545.jpg', 'n02381460_155.jpg', 'n02381460_1227.jpg', 'n02381460_1486.jpg', 'n02381460_948.jpg', 'n02381460_4674.jpg']\n",
            "['n02391049_10007.jpg', 'n02391049_10027.jpg', 'n02391049_1004.jpg', 'n02391049_10047.jpg', 'n02391049_10063.jpg', 'n02391049_101.jpg', 'n02391049_1012.jpg', 'n02391049_10122.jpg', 'n02391049_10123.jpg', 'n02391049_10129.jpg']\n"
          ]
        }
      ]
    },
    {
      "cell_type": "code",
      "source": [
        "plt.imshow(mpimg.imread(os.path.join(train_horses_dir, train_horses_fnames[0])))"
      ],
      "metadata": {
        "colab": {
          "base_uri": "https://localhost:8080/",
          "height": 286
        },
        "id": "rWTUutXH-pP0",
        "outputId": "bc736bca-0fa4-47cf-c123-b02b20c542fd"
      },
      "execution_count": null,
      "outputs": [
        {
          "output_type": "execute_result",
          "data": {
            "text/plain": [
              "<matplotlib.image.AxesImage at 0x7f949a2a7910>"
            ]
          },
          "metadata": {},
          "execution_count": 35
        },
        {
          "output_type": "display_data",
          "data": {
            "text/plain": [
              "<Figure size 432x288 with 1 Axes>"
            ],
            "image/png": "[encoded data removed]"
          },
          "metadata": {
            "needs_background": "light"
          }
        }
      ]
    },
    {
      "cell_type": "markdown",
      "source": [
        "## AlexNet Architecture"
      ],
      "metadata": {
        "id": "CLwaZK4tmne2"
      }
    },
    {
      "cell_type": "code",
      "source": [
        "model=tf.keras.models.Sequential([\n",
        "    tf.keras.layers.Conv2D(filters=128, kernel_size=(11,11), strides=(4,4), activation='relu', input_shape=(64,64,3)),\n",
        "    tf.keras.layers.BatchNormalization(),\n",
        "    tf.keras.layers.MaxPool2D(pool_size=(2,2)),\n",
        "    tf.keras.layers.Conv2D(filters=256, kernel_size=(5,5), strides=(1,1), activation='relu', padding=\"same\"),\n",
        "    tf.keras.layers.BatchNormalization(),\n",
        "    tf.keras.layers.MaxPool2D(pool_size=(3,3)),\n",
        "    tf.keras.layers.Conv2D(filters=256, kernel_size=(3,3), strides=(1,1), activation='relu', padding=\"same\"),\n",
        "    tf.keras.layers.BatchNormalization(),\n",
        "    tf.keras.layers.Conv2D(filters=256, kernel_size=(1,1), strides=(1,1), activation='relu', padding=\"same\"),\n",
        "    tf.keras.layers.BatchNormalization(),\n",
        "    tf.keras.layers.Conv2D(filters=256, kernel_size=(1,1), strides=(1,1), activation='relu', padding=\"same\"),\n",
        "    tf.keras.layers.BatchNormalization(),\n",
        "    tf.keras.layers.MaxPool2D(pool_size=(2,2)),\n",
        "    tf.keras.layers.Flatten(),\n",
        "    tf.keras.layers.Dense(1024,activation='relu'),\n",
        "    tf.keras.layers.Dropout(0.5),\n",
        "    tf.keras.layers.Dense(1024,activation='relu'),\n",
        "    tf.keras.layers.Dropout(0.5),\n",
        "    tf.keras.layers.Dense(2,activation='softmax')    \n",
        "])\n",
        "model.summary()\n",
        "model.compile(loss = 'categorical_crossentropy', optimizer = tf.keras.optimizers.Adam(learning_rate = 0.01), metrics = ['acc'])"
      ],
      "metadata": {
        "colab": {
          "base_uri": "https://localhost:8080/"
        },
        "id": "p-7py9M8b3cI",
        "outputId": "982b8fc3-0bbe-4fb9-8275-d824e18c902f"
      },
      "execution_count": null,
      "outputs": [
        {
          "output_type": "stream",
          "name": "stdout",
          "text": [
            "Model: \"sequential_3\"\n",
            "_________________________________________________________________\n",
            " Layer (type)                Output Shape              Param #   \n",
            "=================================================================\n",
            " conv2d_15 (Conv2D)          (None, 14, 14, 128)       46592     \n",
            "                                                                 \n",
            " batch_normalization_15 (Bat  (None, 14, 14, 128)      512       \n",
            " chNormalization)                                                \n",
            "                                                                 \n",
            " max_pooling2d_9 (MaxPooling  (None, 7, 7, 128)        0         \n",
            " 2D)                                                             \n",
            "                                                                 \n",
            " conv2d_16 (Conv2D)          (None, 7, 7, 256)         819456    \n",
            "                                                                 \n",
            " batch_normalization_16 (Bat  (None, 7, 7, 256)        1024      \n",
            " chNormalization)                                                \n",
            "                                                                 \n",
            " max_pooling2d_10 (MaxPoolin  (None, 2, 2, 256)        0         \n",
            " g2D)                                                            \n",
            "                                                                 \n",
            " conv2d_17 (Conv2D)          (None, 2, 2, 256)         590080    \n",
            "                                                                 \n",
            " batch_normalization_17 (Bat  (None, 2, 2, 256)        1024      \n",
            " chNormalization)                                                \n",
            "                                                                 \n",
            " conv2d_18 (Conv2D)          (None, 2, 2, 256)         65792     \n",
            "                                                                 \n",
            " batch_normalization_18 (Bat  (None, 2, 2, 256)        1024      \n",
            " chNormalization)                                                \n",
            "                                                                 \n",
            " conv2d_19 (Conv2D)          (None, 2, 2, 256)         65792     \n",
            "                                                                 \n",
            " batch_normalization_19 (Bat  (None, 2, 2, 256)        1024      \n",
            " chNormalization)                                                \n",
            "                                                                 \n",
            " max_pooling2d_11 (MaxPoolin  (None, 1, 1, 256)        0         \n",
            " g2D)                                                            \n",
            "                                                                 \n",
            " flatten_3 (Flatten)         (None, 256)               0         \n",
            "                                                                 \n",
            " dense_9 (Dense)             (None, 1024)              263168    \n",
            "                                                                 \n",
            " dropout_6 (Dropout)         (None, 1024)              0         \n",
            "                                                                 \n",
            " dense_10 (Dense)            (None, 1024)              1049600   \n",
            "                                                                 \n",
            " dropout_7 (Dropout)         (None, 1024)              0         \n",
            "                                                                 \n",
            " dense_11 (Dense)            (None, 2)                 2050      \n",
            "                                                                 \n",
            "=================================================================\n",
            "Total params: 2,907,138\n",
            "Trainable params: 2,904,834\n",
            "Non-trainable params: 2,304\n",
            "_________________________________________________________________\n"
          ]
        }
      ]
    },
    {
      "cell_type": "code",
      "source": [
        "history = model.fit(train_generator, epochs=5, validation_data=validation_generator)"
      ],
      "metadata": {
        "colab": {
          "base_uri": "https://localhost:8080/"
        },
        "id": "DVUWhj-AcKpP",
        "outputId": "d3855863-d178-46e0-d428-8455b7fb182c"
      },
      "execution_count": null,
      "outputs": [
        {
          "output_type": "stream",
          "name": "stdout",
          "text": [
            "Epoch 1/5\n",
            "121/121 [==============================] - 8s 56ms/step - loss: 2.3839 - acc: 0.5810 - val_loss: 5.0613 - val_acc: 0.5500\n",
            "Epoch 2/5\n",
            "121/121 [==============================] - 5s 42ms/step - loss: 1.3039 - acc: 0.5723 - val_loss: 0.8956 - val_acc: 0.5385\n",
            "Epoch 3/5\n",
            "121/121 [==============================] - 5s 45ms/step - loss: 1.1241 - acc: 0.5902 - val_loss: 0.6635 - val_acc: 0.5962\n",
            "Epoch 4/5\n",
            "121/121 [==============================] - 8s 64ms/step - loss: 0.6773 - acc: 0.5973 - val_loss: 0.9193 - val_acc: 0.6577\n",
            "Epoch 5/5\n",
            "121/121 [==============================] - 5s 45ms/step - loss: 0.6618 - acc: 0.5739 - val_loss: 0.7416 - val_acc: 0.4615\n"
          ]
        }
      ]
    },
    {
      "cell_type": "code",
      "source": [
        "results_horse2zebra[\"AlexNet\"] = {}\n",
        "results_horse2zebra[\"AlexNet\"][\"Loss\"] = history.history[\"loss\"][-1]\n",
        "results_horse2zebra[\"AlexNet\"][\"Accuracy\"] = history.history[\"acc\"][-1]\n",
        "results_horse2zebra[\"AlexNet\"][\"Validation Loss\"] = history.history[\"val_loss\"][-1]\n",
        "results_horse2zebra[\"AlexNet\"][\"Validation Accuracy\"] = history.history[\"val_acc\"][-1]\n",
        "results_horse2zebra"
      ],
      "metadata": {
        "colab": {
          "base_uri": "https://localhost:8080/"
        },
        "id": "jS5RNZngcLB9",
        "outputId": "f66cfae2-1e43-4b5b-fb0a-9f64f6739314"
      },
      "execution_count": null,
      "outputs": [
        {
          "output_type": "execute_result",
          "data": {
            "text/plain": [
              "{'AlexNet': {'Loss': 0.6618479490280151,\n",
              "  'Accuracy': 0.5739275217056274,\n",
              "  'Validation Loss': 0.7415906190872192,\n",
              "  'Validation Accuracy': 0.4615384638309479}}"
            ]
          },
          "metadata": {},
          "execution_count": 37
        }
      ]
    },
    {
      "cell_type": "markdown",
      "source": [
        "## Newer CNN Architectures\n",
        "\n",
        "\n",
        "1.   VGG16\n",
        "2.   GoogleNet(InceptionNet)\n",
        "3.   ResNet50\n",
        "4.   EfficientNetB0\n",
        "5.   MobileNetV2\n"
      ],
      "metadata": {
        "id": "JNcOfQizm1LF"
      }
    },
    {
      "cell_type": "code",
      "source": [
        "for Net in models:\n",
        "    if Net == InceptionV3:\n",
        "\n",
        "      train_generator = train_datagen.flow_from_directory(\n",
        "      train_dir,\n",
        "      target_size=(299, 299),\n",
        "      batch_size=20,\n",
        "      class_mode='categorical')\n",
        "\n",
        "      validation_generator = val_datagen.flow_from_directory(\n",
        "      validation_dir,\n",
        "      target_size=(299, 299),\n",
        "      batch_size=20,\n",
        "      class_mode='categorical')\n",
        "\n",
        "      base_model = Net(input_shape=(299,299,3), weights='imagenet', include_top=False)\n",
        "      base_model.trainable = False\n",
        "\n",
        "    else:\n",
        "      train_generator = train_datagen.flow_from_directory(\n",
        "      train_dir,\n",
        "      target_size=(224, 224),\n",
        "      batch_size=20,\n",
        "      class_mode='categorical')\n",
        "\n",
        "      validation_generator = val_datagen.flow_from_directory(\n",
        "      validation_dir,\n",
        "      target_size=(224, 224),\n",
        "      batch_size=20,\n",
        "      class_mode='categorical')\n",
        "\n",
        "      base_model = Net(input_shape=(224,224,3), weights='imagenet', include_top=False)\n",
        "      base_model.trainable = False\n",
        "      \n",
        "    model = tf.keras.Sequential([\n",
        "      base_model,\n",
        "      tf.keras.layers.Flatten(),\n",
        "      tf.keras.layers.Dense(2, activation='sigmoid')\n",
        "    ])\n",
        "    model.summary()\n",
        "\n",
        "    model.compile(loss = 'categorical_crossentropy', optimizer = tf.keras.optimizers.Adam(learning_rate = 0.0001), metrics = ['acc'])\n",
        "    history = model.fit(train_generator, epochs=2, validation_data=validation_generator)\n",
        "\n",
        "    results_horse2zebra[Net] = {}\n",
        "    results_horse2zebra[Net][\"Loss\"] = history.history[\"loss\"][-1]\n",
        "    results_horse2zebra[Net][\"Accuracy\"] = history.history[\"acc\"][-1]\n",
        "    results_horse2zebra[Net][\"Validation Loss\"] = history.history[\"val_loss\"][-1]\n",
        "    results_horse2zebra[Net][\"Validation Accuracy\"] = history.history[\"val_acc\"][-1]"
      ],
      "metadata": {
        "colab": {
          "base_uri": "https://localhost:8080/"
        },
        "id": "eHGKqUoBjuHR",
        "outputId": "4eb3421b-52cc-4027-8de5-26997f37a52a"
      },
      "execution_count": null,
      "outputs": [
        {
          "output_type": "stream",
          "name": "stdout",
          "text": [
            "Found 2401 images belonging to 2 classes.\n",
            "Found 260 images belonging to 2 classes.\n",
            "Model: \"sequential_14\"\n",
            "_________________________________________________________________\n",
            " Layer (type)                Output Shape              Param #   \n",
            "=================================================================\n",
            " vgg16 (Functional)          (None, 7, 7, 512)         14714688  \n",
            "                                                                 \n",
            " flatten_14 (Flatten)        (None, 25088)             0         \n",
            "                                                                 \n",
            " dense_22 (Dense)            (None, 2)                 50178     \n",
            "                                                                 \n",
            "=================================================================\n",
            "Total params: 14,764,866\n",
            "Trainable params: 50,178\n",
            "Non-trainable params: 14,714,688\n",
            "_________________________________________________________________\n",
            "Epoch 1/2\n",
            "121/121 [==============================] - 20s 164ms/step - loss: 0.3206 - acc: 0.8742 - val_loss: 0.1734 - val_acc: 0.9462\n",
            "Epoch 2/2\n",
            "121/121 [==============================] - 19s 154ms/step - loss: 0.1502 - acc: 0.9517 - val_loss: 0.1302 - val_acc: 0.9538\n",
            "Found 2401 images belonging to 2 classes.\n",
            "Found 260 images belonging to 2 classes.\n",
            "Model: \"sequential_15\"\n",
            "_________________________________________________________________\n",
            " Layer (type)                Output Shape              Param #   \n",
            "=================================================================\n",
            " inception_v3 (Functional)   (None, 8, 8, 2048)        21802784  \n",
            "                                                                 \n",
            " flatten_15 (Flatten)        (None, 131072)            0         \n",
            "                                                                 \n",
            " dense_23 (Dense)            (None, 2)                 262146    \n",
            "                                                                 \n",
            "=================================================================\n",
            "Total params: 22,064,930\n",
            "Trainable params: 262,146\n",
            "Non-trainable params: 21,802,784\n",
            "_________________________________________________________________\n",
            "Epoch 1/2\n",
            "121/121 [==============================] - 18s 124ms/step - loss: 0.0606 - acc: 0.9788 - val_loss: 0.0707 - val_acc: 0.9885\n",
            "Epoch 2/2\n",
            "121/121 [==============================] - 14s 119ms/step - loss: 0.0031 - acc: 0.9996 - val_loss: 0.0345 - val_acc: 0.9885\n",
            "Found 2401 images belonging to 2 classes.\n",
            "Found 260 images belonging to 2 classes.\n",
            "Model: \"sequential_16\"\n",
            "_________________________________________________________________\n",
            " Layer (type)                Output Shape              Param #   \n",
            "=================================================================\n",
            " resnet50v2 (Functional)     (None, 7, 7, 2048)        23564800  \n",
            "                                                                 \n",
            " flatten_16 (Flatten)        (None, 100352)            0         \n",
            "                                                                 \n",
            " dense_24 (Dense)            (None, 2)                 200706    \n",
            "                                                                 \n",
            "=================================================================\n",
            "Total params: 23,765,506\n",
            "Trainable params: 200,706\n",
            "Non-trainable params: 23,564,800\n",
            "_________________________________________________________________\n",
            "Epoch 1/2\n",
            "121/121 [==============================] - 13s 87ms/step - loss: 0.1487 - acc: 0.9650 - val_loss: 0.2116 - val_acc: 0.9808\n",
            "Epoch 2/2\n",
            "121/121 [==============================] - 9s 76ms/step - loss: 0.0147 - acc: 0.9967 - val_loss: 0.1220 - val_acc: 0.9846\n",
            "Found 2401 images belonging to 2 classes.\n",
            "Found 260 images belonging to 2 classes.\n",
            "Model: \"sequential_17\"\n",
            "_________________________________________________________________\n",
            " Layer (type)                Output Shape              Param #   \n",
            "=================================================================\n",
            " efficientnetb0 (Functional)  (None, 7, 7, 1280)       4049571   \n",
            "                                                                 \n",
            " flatten_17 (Flatten)        (None, 62720)             0         \n",
            "                                                                 \n",
            " dense_25 (Dense)            (None, 2)                 125442    \n",
            "                                                                 \n",
            "=================================================================\n",
            "Total params: 4,175,013\n",
            "Trainable params: 125,442\n",
            "Non-trainable params: 4,049,571\n",
            "_________________________________________________________________\n",
            "Epoch 1/2\n",
            "121/121 [==============================] - 16s 88ms/step - loss: 0.7387 - acc: 0.5127 - val_loss: 0.9350 - val_acc: 0.5385\n",
            "Epoch 2/2\n",
            "121/121 [==============================] - 8s 68ms/step - loss: 0.7503 - acc: 0.5264 - val_loss: 0.7686 - val_acc: 0.5385\n",
            "Found 2401 images belonging to 2 classes.\n",
            "Found 260 images belonging to 2 classes.\n",
            "Model: \"sequential_18\"\n",
            "_________________________________________________________________\n",
            " Layer (type)                Output Shape              Param #   \n",
            "=================================================================\n",
            " mobilenetv2_1.00_224 (Funct  (None, 7, 7, 1280)       2257984   \n",
            " ional)                                                          \n",
            "                                                                 \n",
            " flatten_18 (Flatten)        (None, 62720)             0         \n",
            "                                                                 \n",
            " dense_26 (Dense)            (None, 2)                 125442    \n",
            "                                                                 \n",
            "=================================================================\n",
            "Total params: 2,383,426\n",
            "Trainable params: 125,442\n",
            "Non-trainable params: 2,257,984\n",
            "_________________________________________________________________\n",
            "Epoch 1/2\n",
            "121/121 [==============================] - 11s 71ms/step - loss: 0.0822 - acc: 0.9725 - val_loss: 0.0565 - val_acc: 0.9769\n",
            "Epoch 2/2\n",
            "121/121 [==============================] - 8s 64ms/step - loss: 0.0043 - acc: 0.9992 - val_loss: 0.0866 - val_acc: 0.9846\n"
          ]
        }
      ]
    },
    {
      "cell_type": "code",
      "source": [
        "results_horse2zebra_df = pd.DataFrame.from_dict(results_horse2zebra, orient=\"index\")\n",
        "results_horse2zebra_df"
      ],
      "metadata": {
        "colab": {
          "base_uri": "https://localhost:8080/",
          "height": 238
        },
        "id": "HGODz9khkEuY",
        "outputId": "6dd5bb76-ffdb-4547-a447-7bb5e0e35188"
      },
      "execution_count": null,
      "outputs": [
        {
          "output_type": "execute_result",
          "data": {
            "text/plain": [
              "                                                 Loss  Accuracy  \\\n",
              "AlexNet                                      0.661848  0.573928   \n",
              "<function VGG16 at 0x7f954fac0710>           0.150204  0.951687   \n",
              "<function InceptionV3 at 0x7f954fa94e60>     0.003108  0.999583   \n",
              "<function ResNet50V2 at 0x7f954fabcdd0>      0.014739  0.996668   \n",
              "<function EfficientNetB0 at 0x7f954fb05320>  0.750297  0.526447   \n",
              "<function MobileNetV2 at 0x7f954fa9bd40>     0.004313  0.999167   \n",
              "\n",
              "                                             Validation Loss  \\\n",
              "AlexNet                                             0.741591   \n",
              "<function VGG16 at 0x7f954fac0710>                  0.130211   \n",
              "<function InceptionV3 at 0x7f954fa94e60>            0.034527   \n",
              "<function ResNet50V2 at 0x7f954fabcdd0>             0.121965   \n",
              "<function EfficientNetB0 at 0x7f954fb05320>         0.768645   \n",
              "<function MobileNetV2 at 0x7f954fa9bd40>            0.086611   \n",
              "\n",
              "                                             Validation Accuracy  \n",
              "AlexNet                                                 0.461538  \n",
              "<function VGG16 at 0x7f954fac0710>                      0.953846  \n",
              "<function InceptionV3 at 0x7f954fa94e60>                0.988462  \n",
              "<function ResNet50V2 at 0x7f954fabcdd0>                 0.984615  \n",
              "<function EfficientNetB0 at 0x7f954fb05320>             0.538462  \n",
              "<function MobileNetV2 at 0x7f954fa9bd40>                0.984615  "
            ],
            "text/html": [
              "\n",
              "  <div id=\"df-59d00357-8ac5-4e81-80d8-dbe73cfd854b\">\n",
              "    <div class=\"colab-df-container\">\n",
              "      <div>\n",
              "<style scoped>\n",
              "    .dataframe tbody tr th:only-of-type {\n",
              "        vertical-align: middle;\n",
              "    }\n",
              "\n",
              "    .dataframe tbody tr th {\n",
              "        vertical-align: top;\n",
              "    }\n",
              "\n",
              "    .dataframe thead th {\n",
              "        text-align: right;\n",
              "    }\n",
              "</style>\n",
              "<table border=\"1\" class=\"dataframe\">\n",
              "  <thead>\n",
              "    <tr style=\"text-align: right;\">\n",
              "      <th></th>\n",
              "      <th>Loss</th>\n",
              "      <th>Accuracy</th>\n",
              "      <th>Validation Loss</th>\n",
              "      <th>Validation Accuracy</th>\n",
              "    </tr>\n",
              "  </thead>\n",
              "  <tbody>\n",
              "    <tr>\n",
              "      <th>AlexNet</th>\n",
              "      <td>0.661848</td>\n",
              "      <td>0.573928</td>\n",
              "      <td>0.741591</td>\n",
              "      <td>0.461538</td>\n",
              "    </tr>\n",
              "    <tr>\n",
              "      <th>&lt;function VGG16 at 0x7f954fac0710&gt;</th>\n",
              "      <td>0.150204</td>\n",
              "      <td>0.951687</td>\n",
              "      <td>0.130211</td>\n",
              "      <td>0.953846</td>\n",
              "    </tr>\n",
              "    <tr>\n",
              "      <th>&lt;function InceptionV3 at 0x7f954fa94e60&gt;</th>\n",
              "      <td>0.003108</td>\n",
              "      <td>0.999583</td>\n",
              "      <td>0.034527</td>\n",
              "      <td>0.988462</td>\n",
              "    </tr>\n",
              "    <tr>\n",
              "      <th>&lt;function ResNet50V2 at 0x7f954fabcdd0&gt;</th>\n",
              "      <td>0.014739</td>\n",
              "      <td>0.996668</td>\n",
              "      <td>0.121965</td>\n",
              "      <td>0.984615</td>\n",
              "    </tr>\n",
              "    <tr>\n",
              "      <th>&lt;function EfficientNetB0 at 0x7f954fb05320&gt;</th>\n",
              "      <td>0.750297</td>\n",
              "      <td>0.526447</td>\n",
              "      <td>0.768645</td>\n",
              "      <td>0.538462</td>\n",
              "    </tr>\n",
              "    <tr>\n",
              "      <th>&lt;function MobileNetV2 at 0x7f954fa9bd40&gt;</th>\n",
              "      <td>0.004313</td>\n",
              "      <td>0.999167</td>\n",
              "      <td>0.086611</td>\n",
              "      <td>0.984615</td>\n",
              "    </tr>\n",
              "  </tbody>\n",
              "</table>\n",
              "</div>\n",
              "      <button class=\"colab-df-convert\" onclick=\"convertToInteractive('df-59d00357-8ac5-4e81-80d8-dbe73cfd854b')\"\n",
              "              title=\"Convert this dataframe to an interactive table.\"\n",
              "              style=\"display:none;\">\n",
              "        \n",
              "  <svg xmlns=\"http://www.w3.org/2000/svg\" height=\"24px\"viewBox=\"0 0 24 24\"\n",
              "       width=\"24px\">\n",
              "    <path d=\"M0 0h24v24H0V0z\" fill=\"none\"/>\n",
              "    <path d=\"M18.56 5.44l.94 2.06.94-2.06 2.06-.94-2.06-.94-.94-2.06-.94 2.06-2.06.94zm-11 1L8.5 8.5l.94-2.06 2.06-.94-2.06-.94L8.5 2.5l-.94 2.06-2.06.94zm10 10l.94 2.06.94-2.06 2.06-.94-2.06-.94-.94-2.06-.94 2.06-2.06.94z\"/><path d=\"M17.41 7.96l-1.37-1.37c-.4-.4-.92-.59-1.43-.59-.52 0-1.04.2-1.43.59L10.3 9.45l-7.72 7.72c-.78.78-.78 2.05 0 2.83L4 21.41c.39.39.9.59 1.41.59.51 0 1.02-.2 1.41-.59l7.78-7.78 2.81-2.81c.8-.78.8-2.07 0-2.86zM5.41 20L4 18.59l7.72-7.72 1.47 1.35L5.41 20z\"/>\n",
              "  </svg>\n",
              "      </button>\n",
              "      \n",
              "  <style>\n",
              "    .colab-df-container {\n",
              "      display:flex;\n",
              "      flex-wrap:wrap;\n",
              "      gap: 12px;\n",
              "    }\n",
              "\n",
              "    .colab-df-convert {\n",
              "      background-color: #E8F0FE;\n",
              "      border: none;\n",
              "      border-radius: 50%;\n",
              "      cursor: pointer;\n",
              "      display: none;\n",
              "      fill: #1967D2;\n",
              "      height: 32px;\n",
              "      padding: 0 0 0 0;\n",
              "      width: 32px;\n",
              "    }\n",
              "\n",
              "    .colab-df-convert:hover {\n",
              "      background-color: #E2EBFA;\n",
              "      box-shadow: 0px 1px 2px rgba(60, 64, 67, 0.3), 0px 1px 3px 1px rgba(60, 64, 67, 0.15);\n",
              "      fill: #174EA6;\n",
              "    }\n",
              "\n",
              "    [theme=dark] .colab-df-convert {\n",
              "      background-color: #3B4455;\n",
              "      fill: #D2E3FC;\n",
              "    }\n",
              "\n",
              "    [theme=dark] .colab-df-convert:hover {\n",
              "      background-color: #434B5C;\n",
              "      box-shadow: 0px 1px 3px 1px rgba(0, 0, 0, 0.15);\n",
              "      filter: drop-shadow(0px 1px 2px rgba(0, 0, 0, 0.3));\n",
              "      fill: #FFFFFF;\n",
              "    }\n",
              "  </style>\n",
              "\n",
              "      <script>\n",
              "        const buttonEl =\n",
              "          document.querySelector('#df-59d00357-8ac5-4e81-80d8-dbe73cfd854b button.colab-df-convert');\n",
              "        buttonEl.style.display =\n",
              "          google.colab.kernel.accessAllowed ? 'block' : 'none';\n",
              "\n",
              "        async function convertToInteractive(key) {\n",
              "          const element = document.querySelector('#df-59d00357-8ac5-4e81-80d8-dbe73cfd854b');\n",
              "          const dataTable =\n",
              "            await google.colab.kernel.invokeFunction('convertToInteractive',\n",
              "                                                     [key], {});\n",
              "          if (!dataTable) return;\n",
              "\n",
              "          const docLinkHtml = 'Like what you see? Visit the ' +\n",
              "            '<a target=\"_blank\" href=https://colab.research.google.com/notebooks/data_table.ipynb>data table notebook</a>'\n",
              "            + ' to learn more about interactive tables.';\n",
              "          element.innerHTML = '';\n",
              "          dataTable['output_type'] = 'display_data';\n",
              "          await google.colab.output.renderOutput(dataTable, element);\n",
              "          const docLink = document.createElement('div');\n",
              "          docLink.innerHTML = docLinkHtml;\n",
              "          element.appendChild(docLink);\n",
              "        }\n",
              "      </script>\n",
              "    </div>\n",
              "  </div>\n",
              "  "
            ]
          },
          "metadata": {},
          "execution_count": 55
        }
      ]
    }
  ]
}